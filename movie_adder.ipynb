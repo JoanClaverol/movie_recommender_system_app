{
 "cells": [
  {
   "cell_type": "code",
   "execution_count": 47,
   "metadata": {},
   "outputs": [
    {
     "name": "stdout",
     "output_type": "stream",
     "text": [
      "Please introduce user name:\n",
      "joan_ratings\n",
      "Please, introduce the movie title: \n",
      "The selected movie is Top Gun (1986)\n",
      "Introduce the rating: \n",
      "Do you want to add a rating to another film?(y/n)\n",
      "Do you you want to save this ratings? (y/n)\n",
      "Data saved as ../data/collected-ratings/joan_ratings.csv.\n"
     ]
    }
   ],
   "source": [
    "# goal: given a title, rate the movie\n",
    "import pandas as pd\n",
    "import module\n",
    "\n",
    "print(\"Please introduce user name:\")\n",
    "file_name = input() + \"_ratings\"\n",
    "print(file_name)\n",
    "loaded_ratings = pd.read_csv('../data/collected-ratings/'+ file_name + '.csv')\n",
    "movies = pd.read_csv(\"../data/ml-latest-small/movies.csv\")\n",
    "\n",
    "new_ratings = module.new_movies_ratings_adder(movies)\n",
    "\n",
    "path = \"../data/collected-ratings/\"\n",
    "print(\"Do you you want to save this ratings? (y/n)\")\n",
    "save = input()\n",
    "if save == \"y\":\n",
    "    (\n",
    "    pd.concat([loaded_ratings, new_ratings])\n",
    "        .drop_duplicates(\"movieId\", keep=\"first\")\n",
    "        .dropna()\n",
    "        .to_csv(path + file_name + \".csv\", index=False)\n",
    "    )\n",
    "    print(f\"Data saved as {path + file_name}.csv.\")\n",
    "else:\n",
    "    print(\"Data not saved.\")\n"
   ]
  }
 ],
 "metadata": {
  "interpreter": {
   "hash": "8557169e40f946b7b2d53c2523703920421f68fc791b17347e1c368925750859"
  },
  "kernelspec": {
   "display_name": "Python 3.8.8 64-bit ('base': conda)",
   "language": "python",
   "name": "python3"
  },
  "language_info": {
   "codemirror_mode": {
    "name": "ipython",
    "version": 3
   },
   "file_extension": ".py",
   "mimetype": "text/x-python",
   "name": "python",
   "nbconvert_exporter": "python",
   "pygments_lexer": "ipython3",
   "version": "3.8.8"
  },
  "orig_nbformat": 4
 },
 "nbformat": 4,
 "nbformat_minor": 2
}
